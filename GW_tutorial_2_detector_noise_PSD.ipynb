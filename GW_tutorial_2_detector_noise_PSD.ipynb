{
  "cells": [
    {
      "cell_type": "markdown",
      "metadata": {
        "id": "view-in-github",
        "colab_type": "text"
      },
      "source": [
        "<a href=\"https://colab.research.google.com/github/wout6/WoutTuyls_PRA3024/blob/main/GW_tutorial_2_detector_noise_PSD.ipynb\" target=\"_parent\"><img src=\"https://colab.research.google.com/assets/colab-badge.svg\" alt=\"Open In Colab\"/></a>"
      ]
    },
    {
      "cell_type": "markdown",
      "metadata": {
        "id": "Oe9SQUuVgkEy",
        "tags": []
      },
      "source": [
        "### GW tutorial 2: Detector noise and GW150914"
      ]
    },
    {
      "cell_type": "markdown",
      "metadata": {
        "id": "7z8XAu4QbBqP"
      },
      "source": [
        "Author: Melissa Lopez\n",
        "\n",
        "Email: m.lopez@uu.nl"
      ]
    },
    {
      "cell_type": "markdown",
      "metadata": {
        "id": "vcBUfS3rbBqQ"
      },
      "source": [
        "Note that we are importing some packages to be able to read the data."
      ]
    },
    {
      "cell_type": "code",
      "source": [
        "!pip install pycbc"
      ],
      "metadata": {
        "colab": {
          "base_uri": "https://localhost:8080/"
        },
        "id": "WbsErHJ6bDXM",
        "outputId": "6089d350-ba06-42d8-ffa4-f011694e3169"
      },
      "execution_count": null,
      "outputs": [
        {
          "output_type": "stream",
          "name": "stdout",
          "text": [
            "Collecting pycbc\n",
            "  Downloading PyCBC-2.7.2-cp311-cp311-manylinux_2_17_x86_64.manylinux2014_x86_64.whl.metadata (4.3 kB)\n",
            "Requirement already satisfied: numpy>=1.16.0 in /usr/local/lib/python3.11/dist-packages (from pycbc) (1.26.4)\n",
            "Requirement already satisfied: cython>=0.29 in /usr/local/lib/python3.11/dist-packages (from pycbc) (3.0.11)\n",
            "Requirement already satisfied: scipy>=0.16.0 in /usr/local/lib/python3.11/dist-packages (from pycbc) (1.13.1)\n",
            "Requirement already satisfied: astropy!=4.0.5,!=4.2.1,>=2.0.3 in /usr/local/lib/python3.11/dist-packages (from pycbc) (7.0.0)\n",
            "Requirement already satisfied: matplotlib>=1.5.1 in /usr/local/lib/python3.11/dist-packages (from pycbc) (3.10.0)\n",
            "Collecting mpld3>=0.3 (from pycbc)\n",
            "  Downloading mpld3-0.5.10-py3-none-any.whl.metadata (5.1 kB)\n",
            "Requirement already satisfied: pillow in /usr/local/lib/python3.11/dist-packages (from pycbc) (11.1.0)\n",
            "Requirement already satisfied: h5py!=3.7.0,>=3.0.0 in /usr/local/lib/python3.11/dist-packages (from pycbc) (3.12.1)\n",
            "Requirement already satisfied: jinja2 in /usr/local/lib/python3.11/dist-packages (from pycbc) (3.1.5)\n",
            "Collecting Mako>=1.0.1 (from pycbc)\n",
            "  Downloading Mako-1.3.9-py3-none-any.whl.metadata (2.9 kB)\n",
            "Requirement already satisfied: beautifulsoup4>=4.6.0 in /usr/local/lib/python3.11/dist-packages (from pycbc) (4.13.3)\n",
            "Requirement already satisfied: tqdm in /usr/local/lib/python3.11/dist-packages (from pycbc) (4.67.1)\n",
            "Requirement already satisfied: setuptools in /usr/local/lib/python3.11/dist-packages (from pycbc) (75.1.0)\n",
            "Collecting gwdatafind (from pycbc)\n",
            "  Downloading gwdatafind-1.2.0-py3-none-any.whl.metadata (3.9 kB)\n",
            "Collecting pegasus-wms.api>=5.0.8 (from pycbc)\n",
            "  Downloading pegasus-wms.api-5.0.9.tar.gz (47 kB)\n",
            "\u001b[2K     \u001b[90m━━━━━━━━━━━━━━━━━━━━━━━━━━━━━━━━━━━━━━━━\u001b[0m \u001b[32m47.6/47.6 kB\u001b[0m \u001b[31m1.6 MB/s\u001b[0m eta \u001b[36m0:00:00\u001b[0m\n",
            "\u001b[?25h  Installing build dependencies ... \u001b[?25l\u001b[?25hdone\n",
            "  Getting requirements to build wheel ... \u001b[?25l\u001b[?25hdone\n",
            "  Preparing metadata (pyproject.toml) ... \u001b[?25l\u001b[?25hdone\n",
            "Collecting python-ligo-lw>=1.7.0 (from pycbc)\n",
            "  Downloading python-ligo-lw-1.8.3.tar.gz (2.3 MB)\n",
            "\u001b[2K     \u001b[90m━━━━━━━━━━━━━━━━━━━━━━━━━━━━━━━━━━━━━━━━\u001b[0m \u001b[32m2.3/2.3 MB\u001b[0m \u001b[31m22.5 MB/s\u001b[0m eta \u001b[36m0:00:00\u001b[0m\n",
            "\u001b[?25h  Preparing metadata (setup.py) ... \u001b[?25l\u001b[?25hdone\n",
            "Collecting ligo-segments (from pycbc)\n",
            "  Downloading ligo-segments-1.4.0.tar.gz (51 kB)\n",
            "\u001b[2K     \u001b[90m━━━━━━━━━━━━━━━━━━━━━━━━━━━━━━━━━━━━━━━━\u001b[0m \u001b[32m51.0/51.0 kB\u001b[0m \u001b[31m4.7 MB/s\u001b[0m eta \u001b[36m0:00:00\u001b[0m\n",
            "\u001b[?25h  Preparing metadata (setup.py) ... \u001b[?25l\u001b[?25hdone\n",
            "Collecting lalsuite!=7.2 (from pycbc)\n",
            "  Downloading lalsuite-7.25.1-cp311-cp311-manylinux_2_28_x86_64.whl.metadata (3.2 kB)\n",
            "Collecting lscsoft-glue>=1.59.3 (from pycbc)\n",
            "  Downloading lscsoft_glue-4.0.0-py3-none-any.whl.metadata (1.4 kB)\n",
            "Collecting pykerr (from pycbc)\n",
            "  Downloading pykerr-0.1.0-py3-none-any.whl.metadata (5.4 kB)\n",
            "Requirement already satisfied: pyerfa>=2.0.1.1 in /usr/local/lib/python3.11/dist-packages (from astropy!=4.0.5,!=4.2.1,>=2.0.3->pycbc) (2.0.1.5)\n",
            "Requirement already satisfied: astropy-iers-data>=0.2024.10.28.0.34.7 in /usr/local/lib/python3.11/dist-packages (from astropy!=4.0.5,!=4.2.1,>=2.0.3->pycbc) (0.2025.2.3.0.32.42)\n",
            "Requirement already satisfied: PyYAML>=6.0.0 in /usr/local/lib/python3.11/dist-packages (from astropy!=4.0.5,!=4.2.1,>=2.0.3->pycbc) (6.0.2)\n",
            "Requirement already satisfied: packaging>=22.0.0 in /usr/local/lib/python3.11/dist-packages (from astropy!=4.0.5,!=4.2.1,>=2.0.3->pycbc) (24.2)\n",
            "Requirement already satisfied: soupsieve>1.2 in /usr/local/lib/python3.11/dist-packages (from beautifulsoup4>=4.6.0->pycbc) (2.6)\n",
            "Requirement already satisfied: typing-extensions>=4.0.0 in /usr/local/lib/python3.11/dist-packages (from beautifulsoup4>=4.6.0->pycbc) (4.12.2)\n",
            "Requirement already satisfied: python-dateutil in /usr/local/lib/python3.11/dist-packages (from lalsuite!=7.2->pycbc) (2.8.2)\n",
            "Requirement already satisfied: pyOpenSSL in /usr/local/lib/python3.11/dist-packages (from lscsoft-glue>=1.59.3->pycbc) (24.2.1)\n",
            "Requirement already satisfied: six in /usr/local/lib/python3.11/dist-packages (from lscsoft-glue>=1.59.3->pycbc) (1.17.0)\n",
            "Requirement already satisfied: MarkupSafe>=0.9.2 in /usr/local/lib/python3.11/dist-packages (from Mako>=1.0.1->pycbc) (3.0.2)\n",
            "Requirement already satisfied: contourpy>=1.0.1 in /usr/local/lib/python3.11/dist-packages (from matplotlib>=1.5.1->pycbc) (1.3.1)\n",
            "Requirement already satisfied: cycler>=0.10 in /usr/local/lib/python3.11/dist-packages (from matplotlib>=1.5.1->pycbc) (0.12.1)\n",
            "Requirement already satisfied: fonttools>=4.22.0 in /usr/local/lib/python3.11/dist-packages (from matplotlib>=1.5.1->pycbc) (4.55.8)\n",
            "Requirement already satisfied: kiwisolver>=1.3.1 in /usr/local/lib/python3.11/dist-packages (from matplotlib>=1.5.1->pycbc) (1.4.8)\n",
            "Requirement already satisfied: pyparsing>=2.3.1 in /usr/local/lib/python3.11/dist-packages (from matplotlib>=1.5.1->pycbc) (3.2.1)\n",
            "Collecting pegasus-wms.common (from pegasus-wms.api>=5.0.8->pycbc)\n",
            "  Downloading pegasus-wms.common-5.0.9.tar.gz (47 kB)\n",
            "\u001b[2K     \u001b[90m━━━━━━━━━━━━━━━━━━━━━━━━━━━━━━━━━━━━━━━━\u001b[0m \u001b[32m47.1/47.1 kB\u001b[0m \u001b[31m3.2 MB/s\u001b[0m eta \u001b[36m0:00:00\u001b[0m\n",
            "\u001b[?25h  Installing build dependencies ... \u001b[?25l\u001b[?25hdone\n",
            "  Getting requirements to build wheel ... \u001b[?25l\u001b[?25hdone\n",
            "  Preparing metadata (pyproject.toml) ... \u001b[?25l\u001b[?25hdone\n",
            "Collecting igwn-auth-utils>=0.3.1 (from gwdatafind->pycbc)\n",
            "  Downloading igwn_auth_utils-1.1.1-py3-none-any.whl.metadata (3.8 kB)\n",
            "Requirement already satisfied: cryptography>=2.3 in /usr/local/lib/python3.11/dist-packages (from igwn-auth-utils>=0.3.1->gwdatafind->pycbc) (43.0.3)\n",
            "Requirement already satisfied: requests>=2.14 in /usr/local/lib/python3.11/dist-packages (from igwn-auth-utils>=0.3.1->gwdatafind->pycbc) (2.32.3)\n",
            "Collecting safe-netrc>=1.0.0 (from igwn-auth-utils>=0.3.1->gwdatafind->pycbc)\n",
            "  Downloading safe_netrc-1.0.1-py3-none-any.whl.metadata (1.9 kB)\n",
            "Collecting scitokens>=1.7.0 (from igwn-auth-utils>=0.3.1->gwdatafind->pycbc)\n",
            "  Downloading scitokens-1.8.1-py3-none-any.whl.metadata (12 kB)\n",
            "Requirement already satisfied: cffi>=1.12 in /usr/local/lib/python3.11/dist-packages (from cryptography>=2.3->igwn-auth-utils>=0.3.1->gwdatafind->pycbc) (1.17.1)\n",
            "Requirement already satisfied: charset-normalizer<4,>=2 in /usr/local/lib/python3.11/dist-packages (from requests>=2.14->igwn-auth-utils>=0.3.1->gwdatafind->pycbc) (3.4.1)\n",
            "Requirement already satisfied: idna<4,>=2.5 in /usr/local/lib/python3.11/dist-packages (from requests>=2.14->igwn-auth-utils>=0.3.1->gwdatafind->pycbc) (3.10)\n",
            "Requirement already satisfied: urllib3<3,>=1.21.1 in /usr/local/lib/python3.11/dist-packages (from requests>=2.14->igwn-auth-utils>=0.3.1->gwdatafind->pycbc) (2.3.0)\n",
            "Requirement already satisfied: certifi>=2017.4.17 in /usr/local/lib/python3.11/dist-packages (from requests>=2.14->igwn-auth-utils>=0.3.1->gwdatafind->pycbc) (2025.1.31)\n",
            "Requirement already satisfied: PyJWT>=1.6.1 in /usr/local/lib/python3.11/dist-packages (from scitokens>=1.7.0->igwn-auth-utils>=0.3.1->gwdatafind->pycbc) (2.10.1)\n",
            "Requirement already satisfied: pycparser in /usr/local/lib/python3.11/dist-packages (from cffi>=1.12->cryptography>=2.3->igwn-auth-utils>=0.3.1->gwdatafind->pycbc) (2.22)\n",
            "Downloading PyCBC-2.7.2-cp311-cp311-manylinux_2_17_x86_64.manylinux2014_x86_64.whl (9.0 MB)\n",
            "\u001b[2K   \u001b[90m━━━━━━━━━━━━━━━━━━━━━━━━━━━━━━━━━━━━━━━━\u001b[0m \u001b[32m9.0/9.0 MB\u001b[0m \u001b[31m108.2 MB/s\u001b[0m eta \u001b[36m0:00:00\u001b[0m\n",
            "\u001b[?25hDownloading lalsuite-7.25.1-cp311-cp311-manylinux_2_28_x86_64.whl (40.4 MB)\n",
            "\u001b[2K   \u001b[90m━━━━━━━━━━━━━━━━━━━━━━━━━━━━━━━━━━━━━━━━\u001b[0m \u001b[32m40.4/40.4 MB\u001b[0m \u001b[31m17.4 MB/s\u001b[0m eta \u001b[36m0:00:00\u001b[0m\n",
            "\u001b[?25hDownloading lscsoft_glue-4.0.0-py3-none-any.whl (46 kB)\n",
            "\u001b[2K   \u001b[90m━━━━━━━━━━━━━━━━━━━━━━━━━━━━━━━━━━━━━━━━\u001b[0m \u001b[32m46.5/46.5 kB\u001b[0m \u001b[31m4.8 MB/s\u001b[0m eta \u001b[36m0:00:00\u001b[0m\n",
            "\u001b[?25hDownloading Mako-1.3.9-py3-none-any.whl (78 kB)\n",
            "\u001b[2K   \u001b[90m━━━━━━━━━━━━━━━━━━━━━━━━━━━━━━━━━━━━━━━━\u001b[0m \u001b[32m78.5/78.5 kB\u001b[0m \u001b[31m7.5 MB/s\u001b[0m eta \u001b[36m0:00:00\u001b[0m\n",
            "\u001b[?25hDownloading mpld3-0.5.10-py3-none-any.whl (202 kB)\n",
            "\u001b[2K   \u001b[90m━━━━━━━━━━━━━━━━━━━━━━━━━━━━━━━━━━━━━━━━\u001b[0m \u001b[32m202.6/202.6 kB\u001b[0m \u001b[31m18.8 MB/s\u001b[0m eta \u001b[36m0:00:00\u001b[0m\n",
            "\u001b[?25hDownloading gwdatafind-1.2.0-py3-none-any.whl (45 kB)\n",
            "\u001b[2K   \u001b[90m━━━━━━━━━━━━━━━━━━━━━━━━━━━━━━━━━━━━━━━━\u001b[0m \u001b[32m45.5/45.5 kB\u001b[0m \u001b[31m5.0 MB/s\u001b[0m eta \u001b[36m0:00:00\u001b[0m\n",
            "\u001b[?25hDownloading pykerr-0.1.0-py3-none-any.whl (48.1 MB)\n",
            "\u001b[2K   \u001b[90m━━━━━━━━━━━━━━━━━━━━━━━━━━━━━━━━━━━━━━━━\u001b[0m \u001b[32m48.1/48.1 MB\u001b[0m \u001b[31m11.1 MB/s\u001b[0m eta \u001b[36m0:00:00\u001b[0m\n",
            "\u001b[?25hDownloading igwn_auth_utils-1.1.1-py3-none-any.whl (26 kB)\n",
            "Downloading safe_netrc-1.0.1-py3-none-any.whl (10 kB)\n",
            "Downloading scitokens-1.8.1-py3-none-any.whl (31 kB)\n",
            "Building wheels for collected packages: pegasus-wms.api, python-ligo-lw, ligo-segments, pegasus-wms.common\n",
            "  Building wheel for pegasus-wms.api (pyproject.toml) ... \u001b[?25l\u001b[?25hdone\n",
            "  Created wheel for pegasus-wms.api: filename=pegasus_wms.api-5.0.9-py3-none-any.whl size=50501 sha256=8bb691b8d8c476e42f1318d365b5b43901ae2f394ed15e4f1845023ad6338298\n",
            "  Stored in directory: /root/.cache/pip/wheels/0a/bd/57/326d054073a07633fd57cf57b2bafe2da52e807dda321d3762\n",
            "  Building wheel for python-ligo-lw (setup.py) ... \u001b[?25l\u001b[?25hdone\n",
            "  Created wheel for python-ligo-lw: filename=python_ligo_lw-1.8.3-cp311-cp311-linux_x86_64.whl size=157910 sha256=cc2ed3ed4f60e7bf2e170b53c727765456b3e9f413aad1ab7c329967b19ca365\n",
            "  Stored in directory: /root/.cache/pip/wheels/dc/3a/a1/2400e079ce9e36a572fa67ccd3645e87b9abba772b6a7dfe98\n",
            "  Building wheel for ligo-segments (setup.py) ... \u001b[?25l\u001b[?25hdone\n",
            "  Created wheel for ligo-segments: filename=ligo_segments-1.4.0-cp311-cp311-linux_x86_64.whl size=102031 sha256=11dc97111e4288abf889e69dcea386ae550a9dfe9c17a3875ee59dc1d52df5ec\n",
            "  Stored in directory: /root/.cache/pip/wheels/02/2b/93/c2ee2b6f4ea9572ee4f5ade0115c4bd0887be6228328740dae\n",
            "  Building wheel for pegasus-wms.common (pyproject.toml) ... \u001b[?25l\u001b[?25hdone\n",
            "  Created wheel for pegasus-wms.common: filename=pegasus_wms.common-5.0.9-py3-none-any.whl size=50839 sha256=1dfc012b07deed10b9c9e6addb695ffbba6e83359884c6281e8e33262ccd4f94\n",
            "  Stored in directory: /root/.cache/pip/wheels/a8/2d/ae/5e5b9e2ff0179596560483395ada98c369fa972a8dd6892a85\n",
            "Successfully built pegasus-wms.api python-ligo-lw ligo-segments pegasus-wms.common\n",
            "Installing collected packages: safe-netrc, pegasus-wms.common, Mako, ligo-segments, pykerr, pegasus-wms.api, scitokens, mpld3, lscsoft-glue, igwn-auth-utils, python-ligo-lw, lalsuite, gwdatafind, pycbc\n",
            "Successfully installed Mako-1.3.9 gwdatafind-1.2.0 igwn-auth-utils-1.1.1 lalsuite-7.25.1 ligo-segments-1.4.0 lscsoft-glue-4.0.0 mpld3-0.5.10 pegasus-wms.api-5.0.9 pegasus-wms.common-5.0.9 pycbc-2.7.2 pykerr-0.1.0 python-ligo-lw-1.8.3 safe-netrc-1.0.1 scitokens-1.8.1\n"
          ]
        }
      ]
    },
    {
      "cell_type": "code",
      "execution_count": null,
      "metadata": {
        "colab": {
          "base_uri": "https://localhost:8080/"
        },
        "id": "0NeSv96NLLDw",
        "outputId": "8a205661-87ae-4347-8178-5ff0b41cacf8"
      },
      "outputs": [
        {
          "output_type": "stream",
          "name": "stderr",
          "text": [
            "/usr/local/lib/python3.11/dist-packages/pycbc/types/array.py:36: UserWarning: Wswiglal-redir-stdio:\n",
            "\n",
            "SWIGLAL standard output/error redirection is enabled in IPython.\n",
            "This may lead to performance penalties. To disable locally, use:\n",
            "\n",
            "with lal.no_swig_redirect_standard_output_error():\n",
            "    ...\n",
            "\n",
            "To disable globally, use:\n",
            "\n",
            "lal.swig_redirect_standard_output_error(False)\n",
            "\n",
            "Note however that this will likely lead to error messages from\n",
            "LAL functions being either misdirected or lost when called from\n",
            "Jupyter notebooks.\n",
            "\n",
            "To suppress this warning, use:\n",
            "\n",
            "import warnings\n",
            "warnings.filterwarnings(\"ignore\", \"Wswiglal-redir-stdio\")\n",
            "import lal\n",
            "\n",
            "  import lal as _lal\n"
          ]
        }
      ],
      "source": [
        "%matplotlib inline\n",
        "from pycbc.catalog import Merger\n",
        "import pycbc.psd\n",
        "import pylab\n",
        "import matplotlib.pyplot as plt\n",
        "import numpy as np"
      ]
    },
    {
      "cell_type": "markdown",
      "metadata": {
        "id": "DUPqAIT8bBqT"
      },
      "source": [
        "In the previous part we have seen the detector response to gravitational waves (GW). Currently, we have three ground-based detectors: LIGO Hanford (H1), LIGO Livingston (L1) and Virgo (V1). But what does the data actually look like?\n",
        "\n",
        "To answer this question we are going to take a look at the first detection: **GW150914**. Let's load the data from L1"
      ]
    },
    {
      "cell_type": "code",
      "execution_count": null,
      "metadata": {
        "id": "x6I5BITybBqT"
      },
      "outputs": [],
      "source": [
        "m = Merger('GW150914')\n",
        "ifo = 'L1'\n",
        "data = m.strain(ifo)"
      ]
    },
    {
      "cell_type": "markdown",
      "metadata": {
        "id": "fNrXYJqPbBqU"
      },
      "source": [
        "**Exercise 1:** We can see that this object is a PyCBC timeseries, and as such you can check what their atributes are (see [here](https://pycbc.org/pycbc/latest/html/pycbc.types.html#module-pycbc.types.timeseries)). Let's check some of them.\n",
        "\n",
        "- How much is the duration of the time series?\n",
        "\n",
        "- How much is its sampling rate?\n",
        "\n",
        "- How many data points does it have?\n",
        "\n",
        "- How much is $\\Delta_{f}$ and $\\Delta_{t}$? Can you find a relation between these and the number of data points?"
      ]
    },
    {
      "cell_type": "markdown",
      "metadata": {
        "id": "3qPnWGkEbBqV"
      },
      "source": [
        "_Hint:_ $\\Delta_{f} = 1/duration$ and  $\\Delta_{t} = 1/sample\\_rate$"
      ]
    },
    {
      "cell_type": "code",
      "execution_count": null,
      "metadata": {
        "id": "knTBp-5zbBqV"
      },
      "outputs": [],
      "source": []
    },
    {
      "cell_type": "markdown",
      "metadata": {
        "id": "L0ZHXb4mbBqV"
      },
      "source": [
        "The previous magnitudes are key parameters of the timeseries. Now, let's plot the actual data to see what it looks like."
      ]
    },
    {
      "cell_type": "code",
      "execution_count": null,
      "metadata": {
        "colab": {
          "base_uri": "https://localhost:8080/",
          "height": 482
        },
        "id": "KGemzhCPbBqW",
        "outputId": "6178da1a-c7f7-4b4d-db60-a6118ca4e122"
      },
      "outputs": [
        {
          "output_type": "execute_result",
          "data": {
            "text/plain": [
              "<matplotlib.legend.Legend at 0x7983bbdf6a10>"
            ]
          },
          "metadata": {},
          "execution_count": 4
        },
        {
          "output_type": "display_data",
          "data": {
            "text/plain": [
              "<Figure size 640x480 with 1 Axes>"
            ],
            "image/png": "[encoded data removed]"
          },
          "metadata": {}
        }
      ],
      "source": [
        "plt.plot(data.sample_times, data, label='Raw L1 data', color='cornflowerblue')\n",
        "plt.xlabel('GPS time (s)')\n",
        "plt.ylabel('Amplitude (dimensionless)')\n",
        "plt.legend()"
      ]
    },
    {
      "cell_type": "markdown",
      "metadata": {
        "id": "26gZfzEcbBqW"
      },
      "source": [
        "In GW we use the GPS time to determine at what time the GW signals reached Earth. You can see that the amplitude of this data is super small, $\\mathcal{O}(10^{-18})$! GW interferometers are able to detect a change in distance of ~1/10,000th the size of a proton.\n",
        "\n",
        "But, where is GW190514? We cannot see it (yet) as there are many different contributions from the detector. The detector has a given \"noise budget\" given  by the power spectral density (PSD), $S_{n}(f)$, according to its specific design.\n",
        "\n",
        "**Exercise 2**: Estimate the PSD of the data using `filter_psd` (see [here](https://pycbc.org/pycbc/latest/html/pycbc.types.html#pycbc.types.timeseries.TimeSeries.filter_psd)) and plot it. Limit your plot according to the minimum frequency (say, 1 Hz) and  the Nyquist frequency."
      ]
    },
    {
      "cell_type": "markdown",
      "metadata": {
        "id": "rgUhimmqbBqX"
      },
      "source": [
        "_Hint_: Note that the PSD is a frequency series."
      ]
    },
    {
      "cell_type": "code",
      "execution_count": null,
      "metadata": {
        "id": "a7vTKnSQbBqX"
      },
      "outputs": [],
      "source": []
    },
    {
      "cell_type": "markdown",
      "metadata": {
        "id": "6Y1DN6TPbBqX"
      },
      "source": [
        "The PSD shows us what are the different contributions of the detector noise.\n",
        "While we computed the PSD from 1 Hz, you can see that there is a weird behaviour for frequencies < 5 Hz. This is because the detector is not calibrated at these frequencies, so our analysis needs to start at higher frequencies. For current ground based detectors, we usually start at 10 Hz or higher, depending on the source.\n",
        "\n",
        "GW signals are tiny, so with this much noise we won't be able to see GW150914. To \"flatten\" all frequency contributions we whiten the data.\n",
        "\n",
        "**Exercise 3:** We can whiten the data with [this](https://pycbc.org/pycbc/latest/html/pycbc.types.html#pycbc.types.timeseries.TimeSeries.whiten) function. Use `segment_duration = 4` and `max_filter_duration=4`.\n",
        "\n",
        "- Plot the whitened data next to the raw detector noise. What differences can you see?\n",
        "\n",
        "- Estimate the PSD of the whitened data. Plot it in the same graph as the raw PSD. What differences can you see?\n"
      ]
    },
    {
      "cell_type": "code",
      "execution_count": null,
      "metadata": {
        "id": "gHvNbpK_bBqY"
      },
      "outputs": [],
      "source": []
    },
    {
      "cell_type": "markdown",
      "metadata": {
        "id": "MR3mu689bBqY"
      },
      "source": [
        "Now all frequency contributions are at the same level, as we can see from the PSD. However, GW150914 is still hidden in the data.\n",
        "\n",
        "\n",
        "**Exercise 4:** We can apply a [low pass filter](https://pycbc.org/pycbc/latest/html/pycbc.types.html#pycbc.types.timeseries.TimeSeries.lowpass_fir) and a [high pass filter](https://pycbc.org/pycbc/latest/html/pycbc.types.html#pycbc.types.timeseries.TimeSeries.highpass_fir) to limit the frequency of the data. The low pass filters above 250 Hz (order=512) and the high pass filters below 30 Hz (order=512).\n",
        "\n",
        "- Estimate the PSD of the bandpassed data and plot it together with the raw PSD and the whitened PSD. What is the bandpass doing?\n",
        "\n",
        "- Plot the bandpassed data [cropping](https://pycbc.org/pycbc/latest/html/pycbc.types.html#pycbc.types.timeseries.TimeSeries.crop) 12s on the left and 13s on the right. What can you see? Compare this to the raw data. What frequencies dominate in each case?"
      ]
    },
    {
      "cell_type": "code",
      "execution_count": null,
      "metadata": {
        "id": "sbiHqDYjbBqZ"
      },
      "outputs": [],
      "source": []
    },
    {
      "cell_type": "markdown",
      "metadata": {
        "id": "BIzC1JalbBqZ"
      },
      "source": [
        "**Exercise 5:** Last but not least, we generate a spectrogram (time-frequency representation) using [this](https://pycbc.org/pycbc/latest/html/pycbc.types.html#pycbc.types.timeseries.TimeSeries.qtransform) function.\n",
        "\n",
        "_Hint_: logfsteps=200, qrange=(110, 110), frange=(20, 512), vmax=3.5 as it is standard"
      ]
    },
    {
      "cell_type": "code",
      "execution_count": null,
      "metadata": {
        "id": "Cxi-Zc2DbBqa"
      },
      "outputs": [],
      "source": []
    },
    {
      "cell_type": "markdown",
      "metadata": {
        "id": "926l2hVPiLsf"
      },
      "source": [
        "As we have seen, the detector has a given \"noise budget\" given  by the power spectral density (PSD), $S_{n}(f)$, according to its specific design. Let's see how the detectors will improve in the next observing runs.\n",
        "\n",
        "**Bonus track:** From the `sensitivity_curves` folder [load](https://pycbc.org/pycbc/latest/html/pycbc.psd.html#pycbc.psd.read.from_txt) the PSD s:\n",
        "\n",
        "- Third observing run of H1: `aligo_O3actual_H1.txt`\n",
        "- Third observing run of L1: `aligo_O3actual_L1.txt`\n",
        "- Third observing run of V1: `avirgo_O3actual.txt`\n",
        "- Simulated fourth observing run of LIGO: `aligo_O4high.txt`\n",
        "\n",
        "Note that these PSDs are from [LIGO public website](https://dcc.ligo.org/ligo-t2000012/public). Also read the PSD of [Einstein Telescope](https://pycbc.org/pycbc/latest/html/pycbc.psd.html#pycbc.psd.analytical.EinsteinTelescopeP1600143) (ET) and [Cosmic Explorer](https://pycbc.org/pycbc/latest/html/pycbc.psd.html#pycbc.psd.analytical.CosmicExplorerP1600143) (CE)\n",
        "\n",
        "Plot all these PSDs. What can you say about ET and CE improvements?\n",
        "\n",
        "_Hint_: Minimum frequency is 10 Hz, sampling rate 8192 Hz and duration is 16s.\n"
      ]
    },
    {
      "cell_type": "code",
      "execution_count": null,
      "metadata": {
        "id": "_1cZ_M6HL73u"
      },
      "outputs": [],
      "source": []
    },
    {
      "cell_type": "markdown",
      "metadata": {
        "id": "wSYU6DFeFcpt"
      },
      "source": [
        "Good job! This is the end of the second part. Maybe you can go for a break?"
      ]
    },
    {
      "cell_type": "code",
      "execution_count": null,
      "metadata": {
        "id": "VNgST9EFbBqb"
      },
      "outputs": [],
      "source": []
    }
  ],
  "metadata": {
    "colab": {
      "provenance": [],
      "include_colab_link": true
    },
    "kernelspec": {
      "display_name": "gengli_env",
      "language": "python",
      "name": "gengli_env"
    },
    "language_info": {
      "codemirror_mode": {
        "name": "ipython",
        "version": 3
      },
      "file_extension": ".py",
      "mimetype": "text/x-python",
      "name": "python",
      "nbconvert_exporter": "python",
      "pygments_lexer": "ipython3",
      "version": "3.9.16"
    }
  },
  "nbformat": 4,
  "nbformat_minor": 0
}